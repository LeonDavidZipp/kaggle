{
 "cells": [
  {
   "cell_type": "code",
   "execution_count": 1,
   "metadata": {},
   "outputs": [],
   "source": [
    "import polars as pl\n",
    "import numpy as np\n",
    "\n",
    "from sklearn.compose import ColumnTransformer\n",
    "from sklearn.pipeline import Pipeline\n",
    "from sklearn.preprocessing import OneHotEncoder, StandardScaler\n",
    "import sklearn.model_selection as ms\n",
    "from sklearn.linear_model import SGDClassifier\n",
    "\n",
    "from tensorflow.keras.preprocessing.image import ImageDataGenerator\n",
    "\n",
    "import sys\n",
    "sys.path.append(\"/Users/leon/Desktop/kaggle/\")\n",
    "from src.plotting import MetricPlots as mp\n",
    "import matplotlib.pyplot as plt"
   ]
  },
  {
   "cell_type": "code",
   "execution_count": 2,
   "metadata": {},
   "outputs": [],
   "source": [
    "df = pl.read_csv(\"./data/train.csv\")\n",
    "data = df.to_numpy()\n",
    "X, y = data[:, 1:], data[:, 0]"
   ]
  },
  {
   "cell_type": "code",
   "execution_count": null,
   "metadata": {},
   "outputs": [],
   "source": [
    "sss = ms.StratifiedShuffleSplit(n_splits=5, test_size=0.1, random_state=42)\n",
    "scores = []\n",
    "for train_index, test_index in sss.split(X, y):\n",
    "\tX_train, X_test = X[train_index], X[test_index]\n",
    "\ty_train, y_test = y[train_index], y[test_index]\n",
    "\n",
    "\tsgd_clf = SGDClassifier().fit(X_train, y_train)\n",
    "\tscores.append(sgd_clf.score(X_test, y_test))\n",
    "\n",
    "np.array(scores).mean()"
   ]
  },
  {
   "cell_type": "markdown",
   "metadata": {},
   "source": [
    "# Initial Predictions using SGDClassifier"
   ]
  },
  {
   "cell_type": "code",
   "execution_count": null,
   "metadata": {},
   "outputs": [],
   "source": [
    "X_train, X_test, y_train, y_test = ms.train_test_split(X, y, test_size=0.1, random_state=42)\n",
    "sgd_clf = SGDClassifier().fit(X_train, y_train)\n",
    "sgd_clf.score(X_test, y_test)"
   ]
  },
  {
   "cell_type": "code",
   "execution_count": 47,
   "metadata": {},
   "outputs": [
    {
     "data": {
      "image/png": "[encoded data removed]",
      "text/plain": [
       "<Figure size 480x480 with 1 Axes>"
      ]
     },
     "metadata": {},
     "output_type": "display_data"
    },
    {
     "data": {
      "image/png": "[encoded data removed]",
      "text/plain": [
       "<Figure size 480x480 with 1 Axes>"
      ]
     },
     "metadata": {},
     "output_type": "display_data"
    }
   ],
   "source": [
    "y_pred = sgd_clf.predict(X_test)\n",
    "mp.gen_and_plot_conf_mx(y_test, y_pred)\n",
    "mp.gen_and_plot_error_conf_mx(y_test, y_pred)"
   ]
  },
  {
   "cell_type": "markdown",
   "metadata": {},
   "source": [
    "# **More samples for incorrect classes**\n",
    "## **Big Errors**\n",
    "- true 2 interpreted as 8\n",
    "- true 5 interpreted as 8\n",
    "## **Smaller Errors**\n",
    "- true 5 interpreted as 3\n",
    "- true 8 interpreted as 3\n"
   ]
  },
  {
   "cell_type": "code",
   "execution_count": 3,
   "metadata": {},
   "outputs": [
    {
     "data": {
      "text/plain": [
       "(4177, 28, 28)"
      ]
     },
     "execution_count": 3,
     "metadata": {},
     "output_type": "execute_result"
    }
   ],
   "source": [
    "import math\n",
    "s = int(math.sqrt(784))\n",
    "data_2 = df.filter(pl.col(\"label\") == 2).drop(\"label\").to_numpy().reshape(-1, s, s)\n",
    "data_3 = df.filter(pl.col(\"label\") == 3).drop(\"label\").to_numpy().reshape(-1, s, s)\n",
    "data_5 = df.filter(pl.col(\"label\") == 5).drop(\"label\").to_numpy().reshape(-1, s, s)\n",
    "data_7 = df.filter(pl.col(\"label\") == 7).drop(\"label\").to_numpy().reshape(-1, s, s)\n",
    "data_8 = df.filter(pl.col(\"label\") == 8).drop(\"label\").to_numpy().reshape(-1, s, s)\n",
    "data_2.shape"
   ]
  },
  {
   "cell_type": "code",
   "execution_count": 15,
   "metadata": {},
   "outputs": [],
   "source": [
    "gen = ImageDataGenerator(\n",
    "\trotation_range=2,\n",
    "\twidth_shift_range=0.05,\n",
    "\theight_shift_range=0.05,\n",
    "\tshear_range=0.025,\n",
    "\tzoom_range=0.05,\n",
    "\thorizontal_flip=False,\n",
    "\tfill_mode=\"nearest\"\n",
    ")"
   ]
  },
  {
   "cell_type": "code",
   "execution_count": 16,
   "metadata": {},
   "outputs": [
    {
     "data": {
      "text/plain": [
       "(2000, 784)"
      ]
     },
     "execution_count": 16,
     "metadata": {},
     "output_type": "execute_result"
    }
   ],
   "source": [
    "imgs_2 = next(gen.flow(np.expand_dims(data_2, axis=-1), batch_size=2000)).reshape(-1, 784)\n",
    "imgs_3 = next(gen.flow(np.expand_dims(data_3, axis=-1), batch_size=2000)).reshape(-1, 784)\n",
    "imgs_5 = next(gen.flow(np.expand_dims(data_5, axis=-1), batch_size=2000)).reshape(-1, 784)\n",
    "imgs_7 = next(gen.flow(np.expand_dims(data_7, axis=-1), batch_size=2000)).reshape(-1, 784)\n",
    "imgs_8 = next(gen.flow(np.expand_dims(data_8, axis=-1), batch_size=2000)).reshape(-1, 784)\n",
    "imgs_2.shape"
   ]
  },
  {
   "cell_type": "code",
   "execution_count": 27,
   "metadata": {},
   "outputs": [],
   "source": [
    "X_new = np.vstack(\n",
    "\t[\n",
    "\t\tX,\n",
    "\t\t# imgs_2,\n",
    "\t\timgs_3,\n",
    "\t\t# imgs_5,\n",
    "\t\t# imgs_7,\n",
    "\t\timgs_8\n",
    "\t]\n",
    ")\n",
    "y_new = np.hstack(\n",
    "\t[\n",
    "\t\ty,\n",
    "\t\t# np.full((2000, ), 2),\n",
    "\t\tnp.full((2000, ), 3),\n",
    "\t\t# np.full((2000, ), 5),\n",
    "\t\t# np.full((2000, ), 7),\n",
    "\t\tnp.full((2000, ), 8)\n",
    "\t]\n",
    ")"
   ]
  },
  {
   "cell_type": "markdown",
   "metadata": {},
   "source": [
    "# SGDClassifier with new Data"
   ]
  },
  {
   "cell_type": "code",
   "execution_count": 28,
   "metadata": {},
   "outputs": [
    {
     "data": {
      "text/plain": [
       "0.8686956521739131"
      ]
     },
     "execution_count": 28,
     "metadata": {},
     "output_type": "execute_result"
    }
   ],
   "source": [
    "sss = ms.StratifiedShuffleSplit(n_splits=1, test_size=0.1, random_state=42)\n",
    "scores = []\n",
    "for train_index, test_index in sss.split(X_new, y_new):\n",
    "\tX_train, X_test = X_new[train_index], X_new[test_index]\n",
    "\ty_train, y_test = y_new[train_index], y_new[test_index]\n",
    "\n",
    "\tsgd_clf = SGDClassifier().fit(X_train, y_train)\n",
    "\tscores.append(sgd_clf.score(X_test, y_test))\n",
    "\n",
    "np.array(scores).mean()"
   ]
  },
  {
   "cell_type": "code",
   "execution_count": 23,
   "metadata": {},
   "outputs": [
    {
     "data": {
      "image/png": "[encoded data removed]",
      "text/plain": [
       "<Figure size 480x480 with 1 Axes>"
      ]
     },
     "metadata": {},
     "output_type": "display_data"
    },
    {
     "data": {
      "image/png": "[encoded data removed]",
      "text/plain": [
       "<Figure size 480x480 with 1 Axes>"
      ]
     },
     "metadata": {},
     "output_type": "display_data"
    }
   ],
   "source": [
    "y_pred = sgd_clf.predict(X_test)\n",
    "mp.gen_and_plot_conf_mx(y_test, y_pred)\n",
    "mp.gen_and_plot_error_conf_mx(y_test, y_pred)"
   ]
  },
  {
   "cell_type": "markdown",
   "metadata": {},
   "source": [
    "# RandomForestClassifier"
   ]
  },
  {
   "cell_type": "code",
   "execution_count": 29,
   "metadata": {},
   "outputs": [
    {
     "data": {
      "text/plain": [
       "0.9665217391304348"
      ]
     },
     "execution_count": 29,
     "metadata": {},
     "output_type": "execute_result"
    }
   ],
   "source": [
    "from sklearn.ensemble import RandomForestClassifier\n",
    "scores = []\n",
    "for train_index, test_index in sss.split(X_new, y_new):\n",
    "\tX_train, X_test = X_new[train_index], X_new[test_index]\n",
    "\ty_train, y_test = y_new[train_index], y_new[test_index]\n",
    "\n",
    "\tsgd_clf = RandomForestClassifier().fit(X_train, y_train)\n",
    "\tscores.append(sgd_clf.score(X_test, y_test))\n",
    "\n",
    "np.array(scores).mean()"
   ]
  },
  {
   "cell_type": "code",
   "execution_count": 35,
   "metadata": {},
   "outputs": [
    {
     "name": "stdout",
     "output_type": "stream",
     "text": [
      "{'max_features': 100, 'n_estimators': 100}: GridSearchCV(cv=5, estimator=RandomForestClassifier(),\n",
      "             param_grid=[{'max_features': [100],\n",
      "                          'n_estimators': [70, 85, 100]}],\n",
      "             scoring='accuracy')\n"
     ]
    },
    {
     "data": {
      "text/plain": [
       "({'max_features': 100, 'n_estimators': 100},\n",
       " <bound method BaseSearchCV.score of GridSearchCV(cv=5, estimator=RandomForestClassifier(),\n",
       "              param_grid=[{'max_features': [100],\n",
       "                           'n_estimators': [70, 85, 100]}],\n",
       "              scoring='accuracy')>)"
      ]
     },
     "execution_count": 35,
     "metadata": {},
     "output_type": "execute_result"
    }
   ],
   "source": [
    "from sklearn.model_selection import GridSearchCV\n",
    "rf_clf = RandomForestClassifier()\n",
    "params = [\n",
    "\t# {\"n_estimators\": [10, 50, 100], \"max_features\": [10, 50, 100]}\n",
    "\t{\"n_estimators\": [70, 85, 100], \"max_features\": [100]}\n",
    "]\n",
    "\n",
    "for train_index, test_index in sss.split(X_new, y_new):\n",
    "\tX_train, X_test = X_new[train_index], X_new[test_index]\n",
    "\ty_train, y_test = y_new[train_index], y_new[test_index]\n",
    "\n",
    "\tres = GridSearchCV(\n",
    "\t\testimator=rf_clf,\n",
    "\t\tparam_grid=params,\n",
    "\t\tcv=5,\n",
    "\t\tscoring=\"accuracy\"\n",
    "\t).fit(X_train, y_train)\n",
    "\n",
    "\tprint(f\"{res.best_params_}: {res}\")\n",
    "\n",
    "res.best_params_, res.score"
   ]
  },
  {
   "cell_type": "code",
   "execution_count": 37,
   "metadata": {},
   "outputs": [
    {
     "name": "stdout",
     "output_type": "stream",
     "text": [
      "{'max_features': 100, 'n_estimators': 100}: 0.9706521739130435\n"
     ]
    }
   ],
   "source": [
    "print(f\"{res.best_params_}: {res.score(X_test, y_test)}\")\n"
   ]
  },
  {
   "cell_type": "code",
   "execution_count": 33,
   "metadata": {},
   "outputs": [
    {
     "data": {
      "text/plain": [
       "0.9660869565217391"
      ]
     },
     "execution_count": 33,
     "metadata": {},
     "output_type": "execute_result"
    }
   ],
   "source": [
    "res.best_estimator_.score(X_test, y_test)"
   ]
  },
  {
   "cell_type": "markdown",
   "metadata": {},
   "source": [
    "{'max_features': 100, 'n_estimators': ?}:0.9684782608695652\n",
    "{'max_features': 100, 'n_estimators': 70}: 0.9660869565217391\n"
   ]
  },
  {
   "cell_type": "code",
   "execution_count": null,
   "metadata": {},
   "outputs": [],
   "source": [
    "with open(file=\"./submission.csv\", mode=\"w\") as f:\n",
    "\tf.write(\"PassengerId,Survived\\n\")\n",
    "\tfor k in solutions.keys():\n",
    "\t\tf.write(f\"{k},{int(solutions[k][0])}\\n\")"
   ]
  }
 ],
 "metadata": {
  "kernelspec": {
   "display_name": "venv",
   "language": "python",
   "name": "python3"
  },
  "language_info": {
   "codemirror_mode": {
    "name": "ipython",
    "version": 3
   },
   "file_extension": ".py",
   "mimetype": "text/x-python",
   "name": "python",
   "nbconvert_exporter": "python",
   "pygments_lexer": "ipython3",
   "version": "3.12.8"
  }
 },
 "nbformat": 4,
 "nbformat_minor": 2
}
