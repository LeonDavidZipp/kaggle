{
 "cells": [
  {
   "cell_type": "code",
   "execution_count": 2,
   "metadata": {},
   "outputs": [
    {
     "name": "stderr",
     "output_type": "stream",
     "text": [
      "/Users/leon/Desktop/kaggle/src/space_titanic/transformer_impl.py:31: SyntaxWarning: 'tuple' object is not callable; perhaps you missed a comma?\n",
      "  (sf.FeatureHasher(n_features=3), [\"CabinSide\"])\n"
     ]
    }
   ],
   "source": [
    "import polars as pl\n",
    "import matplotlib.pyplot as plt\n",
    "import sklearn.model_selection as ms\n",
    "from xgboost import XGBRegressor, XGBClassifier\n",
    "import skopt\n",
    "\n",
    "import sys\n",
    "sys.path.append(\"/Users/leon/Desktop/kaggle\")\n",
    "from src.space_titanic.transformer_impl import SpaceTitanicTransformer"
   ]
  },
  {
   "cell_type": "code",
   "execution_count": 3,
   "metadata": {},
   "outputs": [
    {
     "data": {
      "text/html": [
       "<div><style>\n",
       ".dataframe > thead > tr,\n",
       ".dataframe > tbody > tr {\n",
       "  text-align: right;\n",
       "  white-space: pre-wrap;\n",
       "}\n",
       "</style>\n",
       "<small>shape: (5, 14)</small><table border=\"1\" class=\"dataframe\"><thead><tr><th>PassengerId</th><th>HomePlanet</th><th>CryoSleep</th><th>Cabin</th><th>Destination</th><th>Age</th><th>VIP</th><th>RoomService</th><th>FoodCourt</th><th>ShoppingMall</th><th>Spa</th><th>VRDeck</th><th>Name</th><th>Transported</th></tr><tr><td>str</td><td>str</td><td>bool</td><td>str</td><td>str</td><td>f64</td><td>bool</td><td>f64</td><td>f64</td><td>f64</td><td>f64</td><td>f64</td><td>str</td><td>bool</td></tr></thead><tbody><tr><td>&quot;0001_01&quot;</td><td>&quot;Europa&quot;</td><td>false</td><td>&quot;B/0/P&quot;</td><td>&quot;TRAPPIST-1e&quot;</td><td>39.0</td><td>false</td><td>0.0</td><td>0.0</td><td>0.0</td><td>0.0</td><td>0.0</td><td>&quot;Maham Ofracculy&quot;</td><td>false</td></tr><tr><td>&quot;0002_01&quot;</td><td>&quot;Earth&quot;</td><td>false</td><td>&quot;F/0/S&quot;</td><td>&quot;TRAPPIST-1e&quot;</td><td>24.0</td><td>false</td><td>109.0</td><td>9.0</td><td>25.0</td><td>549.0</td><td>44.0</td><td>&quot;Juanna Vines&quot;</td><td>true</td></tr><tr><td>&quot;0003_01&quot;</td><td>&quot;Europa&quot;</td><td>false</td><td>&quot;A/0/S&quot;</td><td>&quot;TRAPPIST-1e&quot;</td><td>58.0</td><td>true</td><td>43.0</td><td>3576.0</td><td>0.0</td><td>6715.0</td><td>49.0</td><td>&quot;Altark Susent&quot;</td><td>false</td></tr><tr><td>&quot;0003_02&quot;</td><td>&quot;Europa&quot;</td><td>false</td><td>&quot;A/0/S&quot;</td><td>&quot;TRAPPIST-1e&quot;</td><td>33.0</td><td>false</td><td>0.0</td><td>1283.0</td><td>371.0</td><td>3329.0</td><td>193.0</td><td>&quot;Solam Susent&quot;</td><td>false</td></tr><tr><td>&quot;0004_01&quot;</td><td>&quot;Earth&quot;</td><td>false</td><td>&quot;F/1/S&quot;</td><td>&quot;TRAPPIST-1e&quot;</td><td>16.0</td><td>false</td><td>303.0</td><td>70.0</td><td>151.0</td><td>565.0</td><td>2.0</td><td>&quot;Willy Santantines&quot;</td><td>true</td></tr></tbody></table></div>"
      ],
      "text/plain": [
       "shape: (5, 14)\n",
       "┌─────────────┬────────────┬───────────┬───────┬───┬────────┬────────┬───────────────┬─────────────┐\n",
       "│ PassengerId ┆ HomePlanet ┆ CryoSleep ┆ Cabin ┆ … ┆ Spa    ┆ VRDeck ┆ Name          ┆ Transported │\n",
       "│ ---         ┆ ---        ┆ ---       ┆ ---   ┆   ┆ ---    ┆ ---    ┆ ---           ┆ ---         │\n",
       "│ str         ┆ str        ┆ bool      ┆ str   ┆   ┆ f64    ┆ f64    ┆ str           ┆ bool        │\n",
       "╞═════════════╪════════════╪═══════════╪═══════╪═══╪════════╪════════╪═══════════════╪═════════════╡\n",
       "│ 0001_01     ┆ Europa     ┆ false     ┆ B/0/P ┆ … ┆ 0.0    ┆ 0.0    ┆ Maham         ┆ false       │\n",
       "│             ┆            ┆           ┆       ┆   ┆        ┆        ┆ Ofracculy     ┆             │\n",
       "│ 0002_01     ┆ Earth      ┆ false     ┆ F/0/S ┆ … ┆ 549.0  ┆ 44.0   ┆ Juanna Vines  ┆ true        │\n",
       "│ 0003_01     ┆ Europa     ┆ false     ┆ A/0/S ┆ … ┆ 6715.0 ┆ 49.0   ┆ Altark Susent ┆ false       │\n",
       "│ 0003_02     ┆ Europa     ┆ false     ┆ A/0/S ┆ … ┆ 3329.0 ┆ 193.0  ┆ Solam Susent  ┆ false       │\n",
       "│ 0004_01     ┆ Earth      ┆ false     ┆ F/1/S ┆ … ┆ 565.0  ┆ 2.0    ┆ Willy         ┆ true        │\n",
       "│             ┆            ┆           ┆       ┆   ┆        ┆        ┆ Santantines   ┆             │\n",
       "└─────────────┴────────────┴───────────┴───────┴───┴────────┴────────┴───────────────┴─────────────┘"
      ]
     },
     "execution_count": 3,
     "metadata": {},
     "output_type": "execute_result"
    }
   ],
   "source": [
    "df = pl.scan_csv(\"./data/train.csv\")\n",
    "df.collect().head()"
   ]
  },
  {
   "cell_type": "code",
   "execution_count": null,
   "metadata": {},
   "outputs": [],
   "source": [
    "tf = SpaceTitanicTransformer()\n",
    "data = tf.transform()"
   ]
  }
 ],
 "metadata": {
  "kernelspec": {
   "display_name": "venv",
   "language": "python",
   "name": "python3"
  },
  "language_info": {
   "codemirror_mode": {
    "name": "ipython",
    "version": 3
   },
   "file_extension": ".py",
   "mimetype": "text/x-python",
   "name": "python",
   "nbconvert_exporter": "python",
   "pygments_lexer": "ipython3",
   "version": "3.12.8"
  }
 },
 "nbformat": 4,
 "nbformat_minor": 2
}
